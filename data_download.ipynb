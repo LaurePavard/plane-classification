{
  "nbformat": 4,
  "nbformat_minor": 0,
  "metadata": {
    "colab": {
      "name": "data_download.ipynb",
      "provenance": [],
      "authorship_tag": "ABX9TyNvqYfwuvzwgtItJx2RZRG7",
      "include_colab_link": true
    },
    "kernelspec": {
      "name": "python3",
      "display_name": "Python 3"
    },
    "language_info": {
      "name": "python"
    }
  },
  "cells": [
    {
      "cell_type": "markdown",
      "metadata": {
        "id": "view-in-github",
        "colab_type": "text"
      },
      "source": [
        "<a href=\"https://colab.research.google.com/github/LaurePavard/plane-classification/blob/main/data_download.ipynb\" target=\"_parent\"><img src=\"https://colab.research.google.com/assets/colab-badge.svg\" alt=\"Open In Colab\"/></a>"
      ]
    },
    {
      "cell_type": "markdown",
      "source": [
        "## Téléchargement des données\n"
      ],
      "metadata": {
        "id": "VGyy3nN8AILB"
      }
    },
    {
      "cell_type": "code",
      "execution_count": null,
      "metadata": {
        "colab": {
          "base_uri": "https://localhost:8080/"
        },
        "id": "lnXBq_PQ4-Vp",
        "outputId": "e6d4fb9d-f136-4a91-e2a3-38a37da88769"
      },
      "outputs": [
        {
          "output_type": "stream",
          "name": "stdout",
          "text": [
            "  % Total    % Received % Xferd  Average Speed   Time    Time     Time  Current\n",
            "                                 Dload  Upload   Total   Spent    Left  Speed\n",
            "100 2625M  100 2625M    0     0  9224k      0  0:04:51  0:04:51 --:--:-- 4936k\n"
          ]
        }
      ],
      "source": [
        "!curl -O https://www.robots.ox.ac.uk/~vgg/data/fgvc-aircraft/archives/fgvc-aircraft-2013b.tar.gz\n",
        "# curl: download data and save to file"
      ]
    },
    {
      "cell_type": "code",
      "source": [
        "# Unzip the file\n",
        "# tar: linux file\n",
        "# gz: zipped\n",
        "# commandes:\n",
        "# x pour extraire\n",
        "# z le fichier est compressé\n",
        "# f pour indiquer le nom du fichier (à mettre en dernier sur la liste des options)\n",
        "# t: lister les fichier sans décompresser\n",
        "# v: pour avoir du détail (verbose)\n",
        "# c: créer un tar file"
      ],
      "metadata": {
        "id": "OUX0uJNB7O7t"
      },
      "execution_count": 7,
      "outputs": []
    },
    {
      "cell_type": "code",
      "source": [
        "#Exemple pour lister les fichiers avant de décompresser\n",
        "!tar tzvf fgvc-aircraft-2013b.tar.gz"
      ],
      "metadata": {
        "id": "EG28eRYw-p6L"
      },
      "execution_count": null,
      "outputs": []
    },
    {
      "cell_type": "code",
      "source": [
        "# Détarrer le fichier / Untar file\n",
        "!tar zxf fgvc-aircraft-2013b.tar.gz"
      ],
      "metadata": {
        "id": "5u6EvRyQ-tnm"
      },
      "execution_count": 6,
      "outputs": []
    },
    {
      "cell_type": "code",
      "source": [
        ""
      ],
      "metadata": {
        "id": "6GD1i32c_YL-"
      },
      "execution_count": null,
      "outputs": []
    }
  ]
}