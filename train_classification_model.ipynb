{
  "nbformat": 4,
  "nbformat_minor": 0,
  "metadata": {
    "colab": {
      "name": "train_classification_model.ipynb",
      "provenance": [],
      "authorship_tag": "ABX9TyOauaHw2OWaqcxIWSThemsB",
      "include_colab_link": true
    },
    "kernelspec": {
      "name": "python3",
      "display_name": "Python 3"
    },
    "language_info": {
      "name": "python"
    }
  },
  "cells": [
    {
      "cell_type": "markdown",
      "metadata": {
        "id": "view-in-github",
        "colab_type": "text"
      },
      "source": [
        "<a href=\"https://colab.research.google.com/github/LaurePavard/plane-classification/blob/main/train_classification_model.ipynb\" target=\"_parent\"><img src=\"https://colab.research.google.com/assets/colab-badge.svg\" alt=\"Open In Colab\"/></a>"
      ]
    },
    {
      "cell_type": "markdown",
      "source": [
        "## Récupération des données"
      ],
      "metadata": {
        "id": "Gr7pZxPHZYto"
      }
    },
    {
      "cell_type": "code",
      "execution_count": 1,
      "metadata": {
        "colab": {
          "base_uri": "https://localhost:8080/"
        },
        "id": "2jAYOIC0Yuyu",
        "outputId": "10491c1a-7330-4f92-da56-abd80239041f"
      },
      "outputs": [
        {
          "output_type": "stream",
          "name": "stdout",
          "text": [
            "  % Total    % Received % Xferd  Average Speed   Time    Time     Time  Current\n",
            "                                 Dload  Upload   Total   Spent    Left  Speed\n",
            "100 2625M  100 2625M    0     0  7742k      0  0:05:47  0:05:47 --:--:-- 11.7M\n"
          ]
        }
      ],
      "source": [
        "!curl -O https://www.robots.ox.ac.uk/~vgg/data/fgvc-aircraft/archives/fgvc-aircraft-2013b.tar.gz\n",
        "!tar zxf fgvc-aircraft-2013b.tar.gz\n",
        "!mv fgvc-aircraft-2013b dataset"
      ]
    },
    {
      "cell_type": "markdown",
      "source": [
        "## Traitement des données"
      ],
      "metadata": {
        "id": "idPryEjqZfzT"
      }
    },
    {
      "cell_type": "markdown",
      "source": [
        "Un fichier nous donne la variable y (le constructeur) et un autre fichier nous donnes les x (les images). Il nous faut un lien vers les deux fichiers pour construire notre modèle."
      ],
      "metadata": {
        "id": "eWvnUS9iaTzO"
      }
    },
    {
      "cell_type": "markdown",
      "source": [
        "Problème de classification mutliclasse avec un grand nombre de classes (30 à 70 classes) "
      ],
      "metadata": {
        "id": "qR-mTiyPa4X9"
      }
    },
    {
      "cell_type": "code",
      "source": [
        "import pathlib\n",
        "#permet de gérer proprement les chemins d'accès\n",
        "\n",
        "import pandas as pd"
      ],
      "metadata": {
        "id": "2K3G3XSsZT7x"
      },
      "execution_count": 2,
      "outputs": []
    },
    {
      "cell_type": "code",
      "source": [
        "#création d'une variable de base \n",
        "#on écrit les variables en majuscules parce que pep 8 (convention de style pour coder en Python)\n",
        "#pep : propositions d'amélioration de python\n",
        "#pep 8 : une des recommandation est d'écrire les constantes du modèle en majuscule (initialisée au début mais pas modifiée par la suite)\n",
        "\n",
        "#ici on indique le chemin où se trouvent les données/chemin d'accès aux données via DATA_DIR\n",
        "DATA_DIR=pathlib.Path('dataset/data')"
      ],
      "metadata": {
        "id": "7b8Ugiu4bg8O"
      },
      "execution_count": 3,
      "outputs": []
    },
    {
      "cell_type": "code",
      "source": [
        "pd.read_csv(DATA_DIR / 'images_manufacturer_train.txt', sep=' ', names=['image_id','manufacturer'], usecols=['image_id','manufacturer'])\n",
        "#le / fonctionne depuis n'importe quel système d'exploitation et concatène correctement le chemin d'accès\n",
        "#séparateur = espace\n",
        "#Attention, les noms composés sont aussi séparés par un espace.\n",
        "#Pour compenser, on indique que le csv n'a que 2 colonnes et non 3 à l'aide de names\n",
        "#usecols pour la version 1.4 "
      ],
      "metadata": {
        "colab": {
          "base_uri": "https://localhost:8080/",
          "height": 423
        },
        "id": "U7UFF1v7ZW4Z",
        "outputId": "af34bf87-1cb4-4bda-dde9-57b0406bdc5a"
      },
      "execution_count": 6,
      "outputs": [
        {
          "output_type": "execute_result",
          "data": {
            "text/html": [
              "\n",
              "  <div id=\"df-25b7f3e1-d7cb-4d3e-9d8a-682c950aa767\">\n",
              "    <div class=\"colab-df-container\">\n",
              "      <div>\n",
              "<style scoped>\n",
              "    .dataframe tbody tr th:only-of-type {\n",
              "        vertical-align: middle;\n",
              "    }\n",
              "\n",
              "    .dataframe tbody tr th {\n",
              "        vertical-align: top;\n",
              "    }\n",
              "\n",
              "    .dataframe thead th {\n",
              "        text-align: right;\n",
              "    }\n",
              "</style>\n",
              "<table border=\"1\" class=\"dataframe\">\n",
              "  <thead>\n",
              "    <tr style=\"text-align: right;\">\n",
              "      <th></th>\n",
              "      <th>image_id</th>\n",
              "      <th>manufacturer</th>\n",
              "    </tr>\n",
              "  </thead>\n",
              "  <tbody>\n",
              "    <tr>\n",
              "      <th>0</th>\n",
              "      <td>1025794</td>\n",
              "      <td>Boeing</td>\n",
              "    </tr>\n",
              "    <tr>\n",
              "      <th>1</th>\n",
              "      <td>1340192</td>\n",
              "      <td>Boeing</td>\n",
              "    </tr>\n",
              "    <tr>\n",
              "      <th>2</th>\n",
              "      <td>56978</td>\n",
              "      <td>Boeing</td>\n",
              "    </tr>\n",
              "    <tr>\n",
              "      <th>3</th>\n",
              "      <td>698580</td>\n",
              "      <td>Boeing</td>\n",
              "    </tr>\n",
              "    <tr>\n",
              "      <th>4</th>\n",
              "      <td>450014</td>\n",
              "      <td>Boeing</td>\n",
              "    </tr>\n",
              "    <tr>\n",
              "      <th>...</th>\n",
              "      <td>...</td>\n",
              "      <td>...</td>\n",
              "    </tr>\n",
              "    <tr>\n",
              "      <th>3329</th>\n",
              "      <td>1577680</td>\n",
              "      <td>Yakovlev</td>\n",
              "    </tr>\n",
              "    <tr>\n",
              "      <th>3330</th>\n",
              "      <td>1826676</td>\n",
              "      <td>Yakovlev</td>\n",
              "    </tr>\n",
              "    <tr>\n",
              "      <th>3331</th>\n",
              "      <td>472681</td>\n",
              "      <td>Yakovlev</td>\n",
              "    </tr>\n",
              "    <tr>\n",
              "      <th>3332</th>\n",
              "      <td>1597829</td>\n",
              "      <td>Yakovlev</td>\n",
              "    </tr>\n",
              "    <tr>\n",
              "      <th>3333</th>\n",
              "      <td>197891</td>\n",
              "      <td>Yakovlev</td>\n",
              "    </tr>\n",
              "  </tbody>\n",
              "</table>\n",
              "<p>3334 rows × 2 columns</p>\n",
              "</div>\n",
              "      <button class=\"colab-df-convert\" onclick=\"convertToInteractive('df-25b7f3e1-d7cb-4d3e-9d8a-682c950aa767')\"\n",
              "              title=\"Convert this dataframe to an interactive table.\"\n",
              "              style=\"display:none;\">\n",
              "        \n",
              "  <svg xmlns=\"http://www.w3.org/2000/svg\" height=\"24px\"viewBox=\"0 0 24 24\"\n",
              "       width=\"24px\">\n",
              "    <path d=\"M0 0h24v24H0V0z\" fill=\"none\"/>\n",
              "    <path d=\"M18.56 5.44l.94 2.06.94-2.06 2.06-.94-2.06-.94-.94-2.06-.94 2.06-2.06.94zm-11 1L8.5 8.5l.94-2.06 2.06-.94-2.06-.94L8.5 2.5l-.94 2.06-2.06.94zm10 10l.94 2.06.94-2.06 2.06-.94-2.06-.94-.94-2.06-.94 2.06-2.06.94z\"/><path d=\"M17.41 7.96l-1.37-1.37c-.4-.4-.92-.59-1.43-.59-.52 0-1.04.2-1.43.59L10.3 9.45l-7.72 7.72c-.78.78-.78 2.05 0 2.83L4 21.41c.39.39.9.59 1.41.59.51 0 1.02-.2 1.41-.59l7.78-7.78 2.81-2.81c.8-.78.8-2.07 0-2.86zM5.41 20L4 18.59l7.72-7.72 1.47 1.35L5.41 20z\"/>\n",
              "  </svg>\n",
              "      </button>\n",
              "      \n",
              "  <style>\n",
              "    .colab-df-container {\n",
              "      display:flex;\n",
              "      flex-wrap:wrap;\n",
              "      gap: 12px;\n",
              "    }\n",
              "\n",
              "    .colab-df-convert {\n",
              "      background-color: #E8F0FE;\n",
              "      border: none;\n",
              "      border-radius: 50%;\n",
              "      cursor: pointer;\n",
              "      display: none;\n",
              "      fill: #1967D2;\n",
              "      height: 32px;\n",
              "      padding: 0 0 0 0;\n",
              "      width: 32px;\n",
              "    }\n",
              "\n",
              "    .colab-df-convert:hover {\n",
              "      background-color: #E2EBFA;\n",
              "      box-shadow: 0px 1px 2px rgba(60, 64, 67, 0.3), 0px 1px 3px 1px rgba(60, 64, 67, 0.15);\n",
              "      fill: #174EA6;\n",
              "    }\n",
              "\n",
              "    [theme=dark] .colab-df-convert {\n",
              "      background-color: #3B4455;\n",
              "      fill: #D2E3FC;\n",
              "    }\n",
              "\n",
              "    [theme=dark] .colab-df-convert:hover {\n",
              "      background-color: #434B5C;\n",
              "      box-shadow: 0px 1px 3px 1px rgba(0, 0, 0, 0.15);\n",
              "      filter: drop-shadow(0px 1px 2px rgba(0, 0, 0, 0.3));\n",
              "      fill: #FFFFFF;\n",
              "    }\n",
              "  </style>\n",
              "\n",
              "      <script>\n",
              "        const buttonEl =\n",
              "          document.querySelector('#df-25b7f3e1-d7cb-4d3e-9d8a-682c950aa767 button.colab-df-convert');\n",
              "        buttonEl.style.display =\n",
              "          google.colab.kernel.accessAllowed ? 'block' : 'none';\n",
              "\n",
              "        async function convertToInteractive(key) {\n",
              "          const element = document.querySelector('#df-25b7f3e1-d7cb-4d3e-9d8a-682c950aa767');\n",
              "          const dataTable =\n",
              "            await google.colab.kernel.invokeFunction('convertToInteractive',\n",
              "                                                     [key], {});\n",
              "          if (!dataTable) return;\n",
              "\n",
              "          const docLinkHtml = 'Like what you see? Visit the ' +\n",
              "            '<a target=\"_blank\" href=https://colab.research.google.com/notebooks/data_table.ipynb>data table notebook</a>'\n",
              "            + ' to learn more about interactive tables.';\n",
              "          element.innerHTML = '';\n",
              "          dataTable['output_type'] = 'display_data';\n",
              "          await google.colab.output.renderOutput(dataTable, element);\n",
              "          const docLink = document.createElement('div');\n",
              "          docLink.innerHTML = docLinkHtml;\n",
              "          element.appendChild(docLink);\n",
              "        }\n",
              "      </script>\n",
              "    </div>\n",
              "  </div>\n",
              "  "
            ],
            "text/plain": [
              "      image_id manufacturer\n",
              "0      1025794       Boeing\n",
              "1      1340192       Boeing\n",
              "2        56978       Boeing\n",
              "3       698580       Boeing\n",
              "4       450014       Boeing\n",
              "...        ...          ...\n",
              "3329   1577680     Yakovlev\n",
              "3330   1826676     Yakovlev\n",
              "3331    472681     Yakovlev\n",
              "3332   1597829     Yakovlev\n",
              "3333    197891     Yakovlev\n",
              "\n",
              "[3334 rows x 2 columns]"
            ]
          },
          "metadata": {},
          "execution_count": 6
        }
      ]
    },
    {
      "cell_type": "code",
      "source": [
        "#Commenter le code pour bien comprendre comment il fonctionne et faciliter le travail sur le code dans la durée"
      ],
      "metadata": {
        "id": "cnpMNZaDd-Kg"
      },
      "execution_count": 7,
      "outputs": []
    },
    {
      "cell_type": "code",
      "source": [
        "#L'id a enlevé les zero non significatifs alors que les fichiers ont les zéros devant, on va donc forcer Pandas a lire ces zéros en chaîne de caractère à l'aide de dtype\n",
        "#les id sont maintenant des chaînes de caractère (on fait pareil pour les codes postaux)"
      ],
      "metadata": {
        "id": "2KW5w1r8c5xd"
      },
      "execution_count": null,
      "outputs": []
    },
    {
      "cell_type": "code",
      "source": [
        "pd.read_csv(DATA_DIR / 'images_manufacturer_train.txt', sep=' ', \n",
        "            names=['image_id','manufacturer'], \n",
        "            usecols=['image_id','manufacturer'], \n",
        "            dtype={'image_id':str},\n",
        "            )"
      ],
      "metadata": {
        "colab": {
          "base_uri": "https://localhost:8080/",
          "height": 423
        },
        "id": "RcA2u0IZgf_6",
        "outputId": "b5300112-eda9-4a92-8075-0eb09b7937e1"
      },
      "execution_count": 10,
      "outputs": [
        {
          "output_type": "execute_result",
          "data": {
            "text/html": [
              "\n",
              "  <div id=\"df-f43caa99-3f89-4885-a2a8-234f678e680a\">\n",
              "    <div class=\"colab-df-container\">\n",
              "      <div>\n",
              "<style scoped>\n",
              "    .dataframe tbody tr th:only-of-type {\n",
              "        vertical-align: middle;\n",
              "    }\n",
              "\n",
              "    .dataframe tbody tr th {\n",
              "        vertical-align: top;\n",
              "    }\n",
              "\n",
              "    .dataframe thead th {\n",
              "        text-align: right;\n",
              "    }\n",
              "</style>\n",
              "<table border=\"1\" class=\"dataframe\">\n",
              "  <thead>\n",
              "    <tr style=\"text-align: right;\">\n",
              "      <th></th>\n",
              "      <th>image_id</th>\n",
              "      <th>manufacturer</th>\n",
              "    </tr>\n",
              "  </thead>\n",
              "  <tbody>\n",
              "    <tr>\n",
              "      <th>0</th>\n",
              "      <td>1025794</td>\n",
              "      <td>Boeing</td>\n",
              "    </tr>\n",
              "    <tr>\n",
              "      <th>1</th>\n",
              "      <td>1340192</td>\n",
              "      <td>Boeing</td>\n",
              "    </tr>\n",
              "    <tr>\n",
              "      <th>2</th>\n",
              "      <td>0056978</td>\n",
              "      <td>Boeing</td>\n",
              "    </tr>\n",
              "    <tr>\n",
              "      <th>3</th>\n",
              "      <td>0698580</td>\n",
              "      <td>Boeing</td>\n",
              "    </tr>\n",
              "    <tr>\n",
              "      <th>4</th>\n",
              "      <td>0450014</td>\n",
              "      <td>Boeing</td>\n",
              "    </tr>\n",
              "    <tr>\n",
              "      <th>...</th>\n",
              "      <td>...</td>\n",
              "      <td>...</td>\n",
              "    </tr>\n",
              "    <tr>\n",
              "      <th>3329</th>\n",
              "      <td>1577680</td>\n",
              "      <td>Yakovlev</td>\n",
              "    </tr>\n",
              "    <tr>\n",
              "      <th>3330</th>\n",
              "      <td>1826676</td>\n",
              "      <td>Yakovlev</td>\n",
              "    </tr>\n",
              "    <tr>\n",
              "      <th>3331</th>\n",
              "      <td>0472681</td>\n",
              "      <td>Yakovlev</td>\n",
              "    </tr>\n",
              "    <tr>\n",
              "      <th>3332</th>\n",
              "      <td>1597829</td>\n",
              "      <td>Yakovlev</td>\n",
              "    </tr>\n",
              "    <tr>\n",
              "      <th>3333</th>\n",
              "      <td>0197891</td>\n",
              "      <td>Yakovlev</td>\n",
              "    </tr>\n",
              "  </tbody>\n",
              "</table>\n",
              "<p>3334 rows × 2 columns</p>\n",
              "</div>\n",
              "      <button class=\"colab-df-convert\" onclick=\"convertToInteractive('df-f43caa99-3f89-4885-a2a8-234f678e680a')\"\n",
              "              title=\"Convert this dataframe to an interactive table.\"\n",
              "              style=\"display:none;\">\n",
              "        \n",
              "  <svg xmlns=\"http://www.w3.org/2000/svg\" height=\"24px\"viewBox=\"0 0 24 24\"\n",
              "       width=\"24px\">\n",
              "    <path d=\"M0 0h24v24H0V0z\" fill=\"none\"/>\n",
              "    <path d=\"M18.56 5.44l.94 2.06.94-2.06 2.06-.94-2.06-.94-.94-2.06-.94 2.06-2.06.94zm-11 1L8.5 8.5l.94-2.06 2.06-.94-2.06-.94L8.5 2.5l-.94 2.06-2.06.94zm10 10l.94 2.06.94-2.06 2.06-.94-2.06-.94-.94-2.06-.94 2.06-2.06.94z\"/><path d=\"M17.41 7.96l-1.37-1.37c-.4-.4-.92-.59-1.43-.59-.52 0-1.04.2-1.43.59L10.3 9.45l-7.72 7.72c-.78.78-.78 2.05 0 2.83L4 21.41c.39.39.9.59 1.41.59.51 0 1.02-.2 1.41-.59l7.78-7.78 2.81-2.81c.8-.78.8-2.07 0-2.86zM5.41 20L4 18.59l7.72-7.72 1.47 1.35L5.41 20z\"/>\n",
              "  </svg>\n",
              "      </button>\n",
              "      \n",
              "  <style>\n",
              "    .colab-df-container {\n",
              "      display:flex;\n",
              "      flex-wrap:wrap;\n",
              "      gap: 12px;\n",
              "    }\n",
              "\n",
              "    .colab-df-convert {\n",
              "      background-color: #E8F0FE;\n",
              "      border: none;\n",
              "      border-radius: 50%;\n",
              "      cursor: pointer;\n",
              "      display: none;\n",
              "      fill: #1967D2;\n",
              "      height: 32px;\n",
              "      padding: 0 0 0 0;\n",
              "      width: 32px;\n",
              "    }\n",
              "\n",
              "    .colab-df-convert:hover {\n",
              "      background-color: #E2EBFA;\n",
              "      box-shadow: 0px 1px 2px rgba(60, 64, 67, 0.3), 0px 1px 3px 1px rgba(60, 64, 67, 0.15);\n",
              "      fill: #174EA6;\n",
              "    }\n",
              "\n",
              "    [theme=dark] .colab-df-convert {\n",
              "      background-color: #3B4455;\n",
              "      fill: #D2E3FC;\n",
              "    }\n",
              "\n",
              "    [theme=dark] .colab-df-convert:hover {\n",
              "      background-color: #434B5C;\n",
              "      box-shadow: 0px 1px 3px 1px rgba(0, 0, 0, 0.15);\n",
              "      filter: drop-shadow(0px 1px 2px rgba(0, 0, 0, 0.3));\n",
              "      fill: #FFFFFF;\n",
              "    }\n",
              "  </style>\n",
              "\n",
              "      <script>\n",
              "        const buttonEl =\n",
              "          document.querySelector('#df-f43caa99-3f89-4885-a2a8-234f678e680a button.colab-df-convert');\n",
              "        buttonEl.style.display =\n",
              "          google.colab.kernel.accessAllowed ? 'block' : 'none';\n",
              "\n",
              "        async function convertToInteractive(key) {\n",
              "          const element = document.querySelector('#df-f43caa99-3f89-4885-a2a8-234f678e680a');\n",
              "          const dataTable =\n",
              "            await google.colab.kernel.invokeFunction('convertToInteractive',\n",
              "                                                     [key], {});\n",
              "          if (!dataTable) return;\n",
              "\n",
              "          const docLinkHtml = 'Like what you see? Visit the ' +\n",
              "            '<a target=\"_blank\" href=https://colab.research.google.com/notebooks/data_table.ipynb>data table notebook</a>'\n",
              "            + ' to learn more about interactive tables.';\n",
              "          element.innerHTML = '';\n",
              "          dataTable['output_type'] = 'display_data';\n",
              "          await google.colab.output.renderOutput(dataTable, element);\n",
              "          const docLink = document.createElement('div');\n",
              "          docLink.innerHTML = docLinkHtml;\n",
              "          element.appendChild(docLink);\n",
              "        }\n",
              "      </script>\n",
              "    </div>\n",
              "  </div>\n",
              "  "
            ],
            "text/plain": [
              "     image_id manufacturer\n",
              "0     1025794       Boeing\n",
              "1     1340192       Boeing\n",
              "2     0056978       Boeing\n",
              "3     0698580       Boeing\n",
              "4     0450014       Boeing\n",
              "...       ...          ...\n",
              "3329  1577680     Yakovlev\n",
              "3330  1826676     Yakovlev\n",
              "3331  0472681     Yakovlev\n",
              "3332  1597829     Yakovlev\n",
              "3333  0197891     Yakovlev\n",
              "\n",
              "[3334 rows x 2 columns]"
            ]
          },
          "metadata": {},
          "execution_count": 10
        }
      ]
    },
    {
      "cell_type": "code",
      "source": [
        "manufacturer_df=pd.read_csv(DATA_DIR / 'images_manufacturer_train.txt', sep=' ', \n",
        "            names=['image_id','manufacturer'], \n",
        "            usecols=['image_id','manufacturer'], \n",
        "            dtype={'image_id':str},\n",
        "            )"
      ],
      "metadata": {
        "id": "cu0SyPEbg1yZ"
      },
      "execution_count": 11,
      "outputs": []
    },
    {
      "cell_type": "code",
      "source": [
        "#bien vérifier les fichiers quand on les lit pour éviter les bugs à la fin"
      ],
      "metadata": {
        "id": "vhBPAY98hW70"
      },
      "execution_count": null,
      "outputs": []
    },
    {
      "cell_type": "code",
      "source": [
        "manufacturer_df['manufacturer'].value_counts(dropna=False)\n",
        "#le dropna=False compte les valeurs manquantes\n",
        "#Il n'y a pas de valeur manquante puisque na n'apparaît pas"
      ],
      "metadata": {
        "colab": {
          "base_uri": "https://localhost:8080/"
        },
        "id": "r3HkF4GFhcH-",
        "outputId": "b32c2e32-6106-4d49-8273-02450d7a22da"
      },
      "execution_count": 12,
      "outputs": [
        {
          "output_type": "execute_result",
          "data": {
            "text/plain": [
              "Boeing         733\n",
              "Airbus         434\n",
              "Embraer        233\n",
              "McDonnell      232\n",
              "de             167\n",
              "Canadair       134\n",
              "Douglas        133\n",
              "Cessna         133\n",
              "British        133\n",
              "Lockheed       102\n",
              "Fokker         100\n",
              "Dassault        67\n",
              "Gulfstream      67\n",
              "Beechcraft      67\n",
              "Saab            67\n",
              "Tupolev         66\n",
              "ATR             66\n",
              "Panavia         34\n",
              "Antonov         34\n",
              "Dornier         34\n",
              "Yakovlev        34\n",
              "Bombardier      33\n",
              "Ilyushin        33\n",
              "Fairchild       33\n",
              "Piper           33\n",
              "Cirrus          33\n",
              "Eurofighter     33\n",
              "Supermarine     33\n",
              "Robin           33\n",
              "Name: manufacturer, dtype: int64"
            ]
          },
          "metadata": {},
          "execution_count": 12
        }
      ]
    },
    {
      "cell_type": "code",
      "source": [
        "manufacturer_df.isna().sum()"
      ],
      "metadata": {
        "colab": {
          "base_uri": "https://localhost:8080/"
        },
        "id": "1bmCu0aJiEgw",
        "outputId": "ca941714-2bbb-48ce-fce8-cda8c1b3eef5"
      },
      "execution_count": 13,
      "outputs": [
        {
          "output_type": "execute_result",
          "data": {
            "text/plain": [
              "image_id        0\n",
              "manufacturer    0\n",
              "dtype: int64"
            ]
          },
          "metadata": {},
          "execution_count": 13
        }
      ]
    },
    {
      "cell_type": "code",
      "source": [
        "#Garantie qu'il n'y a pas de valeur manquante, s'il y en a le zéro est remplacé par 1"
      ],
      "metadata": {
        "id": "JGeU_HZ2iJ47"
      },
      "execution_count": null,
      "outputs": []
    },
    {
      "cell_type": "code",
      "source": [
        "assert manufacturer_df['image_id'].isna().sum()==0, 'Valeur manquante dans image_id'\n",
        "#Si c'est égal à zéro le assert va fonctionner, sinon il affiche \"valeur manquante dans image_id\"\n",
        "#on peut faire plusieurs assert, si il ne se passe rien ça passe à l'étape d'après sinon il s'arrête"
      ],
      "metadata": {
        "id": "fYtn_xnriQOP"
      },
      "execution_count": 15,
      "outputs": []
    },
    {
      "cell_type": "code",
      "source": [
        "manufacturer_df['manufacturer']="
      ],
      "metadata": {
        "id": "AX0qGII6iwH_"
      },
      "execution_count": null,
      "outputs": []
    },
    {
      "cell_type": "markdown",
      "source": [
        "###Aurait pu marcher mais non"
      ],
      "metadata": {
        "id": "ub-hdt6zlPWJ"
      }
    },
    {
      "cell_type": "code",
      "source": [
        "manufacturer_df=pd.read_csv(DATA_DIR / 'images_manufacturer_train.txt', sep=' ', \n",
        "            names=['image_id','m1','m2'], \n",
        "            usecols=['image_id','m1','m2'], \n",
        "            dtype={'image_id':str},\n",
        "            )\n",
        "manufacturer_df['manufacturer']=manufacturer_df['m1']+' '+manufacturer_df['m2']\n",
        "manufacturer_df['manufacturer'].unique()\n",
        "\n",
        "#PAS LA BONNE METHODE"
      ],
      "metadata": {
        "colab": {
          "base_uri": "https://localhost:8080/"
        },
        "id": "zTrALJ_fkzPu",
        "outputId": "fb76b4f6-3b06-4a82-c32c-0c8ad2a0a143"
      },
      "execution_count": 16,
      "outputs": [
        {
          "output_type": "execute_result",
          "data": {
            "text/plain": [
              "array([nan, 'British Aerospace', 'Lockheed Corporation',\n",
              "       'Douglas Aircraft', 'McDonnell Douglas', 'de Havilland',\n",
              "       'Lockheed Martin', 'Dassault Aviation', 'Bombardier Aerospace',\n",
              "       'Gulfstream Aerospace', 'Cirrus Aircraft'], dtype=object)"
            ]
          },
          "metadata": {},
          "execution_count": 16
        }
      ]
    },
    {
      "cell_type": "markdown",
      "source": [
        "###Méthode la plus astucieuse et qui fonctionne"
      ],
      "metadata": {
        "id": "6aqcGcKzleNr"
      }
    },
    {
      "cell_type": "code",
      "source": [
        "manufacturer_df=pd.read_csv(DATA_DIR/ 'images_manufacturer_train.txt', sep='\\t',\n",
        "                            names=['all'],\n",
        "                            dtype={'all':str},\n",
        "                            )\n",
        "manufacturer_df['image_id']=manufacturer_df['all'].apply(lambda x: x.split(' ')[0])\n",
        "#la fonction split() découpe une chaîne de caractère\n",
        "\n",
        "manufacturer_df['manufacturer']=manufacturer_df['all'].apply(lambda x: ' '.join(x.split(' ')[1:]))\n",
        "#la fonction '<car>'.join(liste) concatène les éléments de liste en utilisant le séparateur <car>. (<car> pour caractère)"
      ],
      "metadata": {
        "id": "VlrHp-ZwkzZU"
      },
      "execution_count": 30,
      "outputs": []
    },
    {
      "cell_type": "code",
      "source": [
        "manufacturer_df"
      ],
      "metadata": {
        "colab": {
          "base_uri": "https://localhost:8080/",
          "height": 423
        },
        "id": "BPPrPkaZmeM_",
        "outputId": "e857ba9a-6636-4a17-bae2-f0812eec92a8"
      },
      "execution_count": 24,
      "outputs": [
        {
          "output_type": "execute_result",
          "data": {
            "text/html": [
              "\n",
              "  <div id=\"df-b5b54d97-d5e3-4f02-a18f-a8c6a80e35da\">\n",
              "    <div class=\"colab-df-container\">\n",
              "      <div>\n",
              "<style scoped>\n",
              "    .dataframe tbody tr th:only-of-type {\n",
              "        vertical-align: middle;\n",
              "    }\n",
              "\n",
              "    .dataframe tbody tr th {\n",
              "        vertical-align: top;\n",
              "    }\n",
              "\n",
              "    .dataframe thead th {\n",
              "        text-align: right;\n",
              "    }\n",
              "</style>\n",
              "<table border=\"1\" class=\"dataframe\">\n",
              "  <thead>\n",
              "    <tr style=\"text-align: right;\">\n",
              "      <th></th>\n",
              "      <th>all</th>\n",
              "      <th>image_id</th>\n",
              "    </tr>\n",
              "  </thead>\n",
              "  <tbody>\n",
              "    <tr>\n",
              "      <th>0</th>\n",
              "      <td>1025794 Boeing</td>\n",
              "      <td>[Boeing]</td>\n",
              "    </tr>\n",
              "    <tr>\n",
              "      <th>1</th>\n",
              "      <td>1340192 Boeing</td>\n",
              "      <td>[Boeing]</td>\n",
              "    </tr>\n",
              "    <tr>\n",
              "      <th>2</th>\n",
              "      <td>0056978 Boeing</td>\n",
              "      <td>[Boeing]</td>\n",
              "    </tr>\n",
              "    <tr>\n",
              "      <th>3</th>\n",
              "      <td>0698580 Boeing</td>\n",
              "      <td>[Boeing]</td>\n",
              "    </tr>\n",
              "    <tr>\n",
              "      <th>4</th>\n",
              "      <td>0450014 Boeing</td>\n",
              "      <td>[Boeing]</td>\n",
              "    </tr>\n",
              "    <tr>\n",
              "      <th>...</th>\n",
              "      <td>...</td>\n",
              "      <td>...</td>\n",
              "    </tr>\n",
              "    <tr>\n",
              "      <th>3329</th>\n",
              "      <td>1577680 Yakovlev</td>\n",
              "      <td>[Yakovlev]</td>\n",
              "    </tr>\n",
              "    <tr>\n",
              "      <th>3330</th>\n",
              "      <td>1826676 Yakovlev</td>\n",
              "      <td>[Yakovlev]</td>\n",
              "    </tr>\n",
              "    <tr>\n",
              "      <th>3331</th>\n",
              "      <td>0472681 Yakovlev</td>\n",
              "      <td>[Yakovlev]</td>\n",
              "    </tr>\n",
              "    <tr>\n",
              "      <th>3332</th>\n",
              "      <td>1597829 Yakovlev</td>\n",
              "      <td>[Yakovlev]</td>\n",
              "    </tr>\n",
              "    <tr>\n",
              "      <th>3333</th>\n",
              "      <td>0197891 Yakovlev</td>\n",
              "      <td>[Yakovlev]</td>\n",
              "    </tr>\n",
              "  </tbody>\n",
              "</table>\n",
              "<p>3334 rows × 2 columns</p>\n",
              "</div>\n",
              "      <button class=\"colab-df-convert\" onclick=\"convertToInteractive('df-b5b54d97-d5e3-4f02-a18f-a8c6a80e35da')\"\n",
              "              title=\"Convert this dataframe to an interactive table.\"\n",
              "              style=\"display:none;\">\n",
              "        \n",
              "  <svg xmlns=\"http://www.w3.org/2000/svg\" height=\"24px\"viewBox=\"0 0 24 24\"\n",
              "       width=\"24px\">\n",
              "    <path d=\"M0 0h24v24H0V0z\" fill=\"none\"/>\n",
              "    <path d=\"M18.56 5.44l.94 2.06.94-2.06 2.06-.94-2.06-.94-.94-2.06-.94 2.06-2.06.94zm-11 1L8.5 8.5l.94-2.06 2.06-.94-2.06-.94L8.5 2.5l-.94 2.06-2.06.94zm10 10l.94 2.06.94-2.06 2.06-.94-2.06-.94-.94-2.06-.94 2.06-2.06.94z\"/><path d=\"M17.41 7.96l-1.37-1.37c-.4-.4-.92-.59-1.43-.59-.52 0-1.04.2-1.43.59L10.3 9.45l-7.72 7.72c-.78.78-.78 2.05 0 2.83L4 21.41c.39.39.9.59 1.41.59.51 0 1.02-.2 1.41-.59l7.78-7.78 2.81-2.81c.8-.78.8-2.07 0-2.86zM5.41 20L4 18.59l7.72-7.72 1.47 1.35L5.41 20z\"/>\n",
              "  </svg>\n",
              "      </button>\n",
              "      \n",
              "  <style>\n",
              "    .colab-df-container {\n",
              "      display:flex;\n",
              "      flex-wrap:wrap;\n",
              "      gap: 12px;\n",
              "    }\n",
              "\n",
              "    .colab-df-convert {\n",
              "      background-color: #E8F0FE;\n",
              "      border: none;\n",
              "      border-radius: 50%;\n",
              "      cursor: pointer;\n",
              "      display: none;\n",
              "      fill: #1967D2;\n",
              "      height: 32px;\n",
              "      padding: 0 0 0 0;\n",
              "      width: 32px;\n",
              "    }\n",
              "\n",
              "    .colab-df-convert:hover {\n",
              "      background-color: #E2EBFA;\n",
              "      box-shadow: 0px 1px 2px rgba(60, 64, 67, 0.3), 0px 1px 3px 1px rgba(60, 64, 67, 0.15);\n",
              "      fill: #174EA6;\n",
              "    }\n",
              "\n",
              "    [theme=dark] .colab-df-convert {\n",
              "      background-color: #3B4455;\n",
              "      fill: #D2E3FC;\n",
              "    }\n",
              "\n",
              "    [theme=dark] .colab-df-convert:hover {\n",
              "      background-color: #434B5C;\n",
              "      box-shadow: 0px 1px 3px 1px rgba(0, 0, 0, 0.15);\n",
              "      filter: drop-shadow(0px 1px 2px rgba(0, 0, 0, 0.3));\n",
              "      fill: #FFFFFF;\n",
              "    }\n",
              "  </style>\n",
              "\n",
              "      <script>\n",
              "        const buttonEl =\n",
              "          document.querySelector('#df-b5b54d97-d5e3-4f02-a18f-a8c6a80e35da button.colab-df-convert');\n",
              "        buttonEl.style.display =\n",
              "          google.colab.kernel.accessAllowed ? 'block' : 'none';\n",
              "\n",
              "        async function convertToInteractive(key) {\n",
              "          const element = document.querySelector('#df-b5b54d97-d5e3-4f02-a18f-a8c6a80e35da');\n",
              "          const dataTable =\n",
              "            await google.colab.kernel.invokeFunction('convertToInteractive',\n",
              "                                                     [key], {});\n",
              "          if (!dataTable) return;\n",
              "\n",
              "          const docLinkHtml = 'Like what you see? Visit the ' +\n",
              "            '<a target=\"_blank\" href=https://colab.research.google.com/notebooks/data_table.ipynb>data table notebook</a>'\n",
              "            + ' to learn more about interactive tables.';\n",
              "          element.innerHTML = '';\n",
              "          dataTable['output_type'] = 'display_data';\n",
              "          await google.colab.output.renderOutput(dataTable, element);\n",
              "          const docLink = document.createElement('div');\n",
              "          docLink.innerHTML = docLinkHtml;\n",
              "          element.appendChild(docLink);\n",
              "        }\n",
              "      </script>\n",
              "    </div>\n",
              "  </div>\n",
              "  "
            ],
            "text/plain": [
              "                   all    image_id\n",
              "0       1025794 Boeing    [Boeing]\n",
              "1       1340192 Boeing    [Boeing]\n",
              "2       0056978 Boeing    [Boeing]\n",
              "3       0698580 Boeing    [Boeing]\n",
              "4       0450014 Boeing    [Boeing]\n",
              "...                ...         ...\n",
              "3329  1577680 Yakovlev  [Yakovlev]\n",
              "3330  1826676 Yakovlev  [Yakovlev]\n",
              "3331  0472681 Yakovlev  [Yakovlev]\n",
              "3332  1597829 Yakovlev  [Yakovlev]\n",
              "3333  0197891 Yakovlev  [Yakovlev]\n",
              "\n",
              "[3334 rows x 2 columns]"
            ]
          },
          "metadata": {},
          "execution_count": 24
        }
      ]
    },
    {
      "cell_type": "code",
      "source": [
        "manufacturer_df['manufacturer'].unique()"
      ],
      "metadata": {
        "colab": {
          "base_uri": "https://localhost:8080/"
        },
        "id": "TQGcLWFymh0h",
        "outputId": "cfbc127c-ce92-4964-992d-6da3c7bf0f59"
      },
      "execution_count": 31,
      "outputs": [
        {
          "output_type": "execute_result",
          "data": {
            "text/plain": [
              "array(['Boeing', 'Airbus', 'ATR', 'Antonov', 'British Aerospace',\n",
              "       'Beechcraft', 'Lockheed Corporation', 'Douglas Aircraft Company',\n",
              "       'Canadair', 'Cessna', 'McDonnell Douglas', 'de Havilland', 'Robin',\n",
              "       'Dornier', 'Embraer', 'Eurofighter', 'Lockheed Martin',\n",
              "       'Dassault Aviation', 'Fokker', 'Bombardier Aerospace',\n",
              "       'Gulfstream Aerospace', 'Ilyushin', 'Fairchild', 'Piper',\n",
              "       'Cirrus Aircraft', 'Saab', 'Supermarine', 'Panavia', 'Tupolev',\n",
              "       'Yakovlev'], dtype=object)"
            ]
          },
          "metadata": {},
          "execution_count": 31
        }
      ]
    },
    {
      "cell_type": "code",
      "source": [
        "! grep ',' dataset/data/images_manufacturer_train.txt"
      ],
      "metadata": {
        "id": "wjfdNmQrn8PD"
      },
      "execution_count": 32,
      "outputs": []
    },
    {
      "cell_type": "code",
      "source": [
        "! grep 'T' dataset/data/images_manufacturer_train.txt | head -3\n",
        "#recherche le caractère T das le fichier et n'affiche que 3 lignes"
      ],
      "metadata": {
        "colab": {
          "base_uri": "https://localhost:8080/"
        },
        "id": "015-l2GJpJ_B",
        "outputId": "1fdb8243-07fa-45ba-ff4d-645056e40316"
      },
      "execution_count": 33,
      "outputs": [
        {
          "output_type": "stream",
          "name": "stdout",
          "text": [
            "0724121 ATR\n",
            "0619697 ATR\n",
            "2243949 ATR\n"
          ]
        }
      ]
    },
    {
      "cell_type": "code",
      "source": [
        "! grep 'T' dataset/data/images_manufacturer_train.txt | wc -l\n",
        "#wc: commpte le nombre d'éléments (-l: lignes, -c: caractères, -w: word)"
      ],
      "metadata": {
        "colab": {
          "base_uri": "https://localhost:8080/"
        },
        "id": "uglBgrwupW5h",
        "outputId": "61967b2d-74c4-4f83-9911-95d7b5025361"
      },
      "execution_count": 35,
      "outputs": [
        {
          "output_type": "stream",
          "name": "stdout",
          "text": [
            "132\n"
          ]
        }
      ]
    },
    {
      "cell_type": "code",
      "source": [
        "! grep 'T' dataset/data/images_manufacturer_train.txt | wc\n",
        "#Compte T dans les lignes, les caractères et les mots "
      ],
      "metadata": {
        "colab": {
          "base_uri": "https://localhost:8080/"
        },
        "id": "xlPNEuwDprT0",
        "outputId": "612eafbd-dda1-4ada-f466-daf0f5ca0833"
      },
      "execution_count": 37,
      "outputs": [
        {
          "output_type": "stream",
          "name": "stdout",
          "text": [
            "    132     264    1848\n"
          ]
        }
      ]
    },
    {
      "cell_type": "code",
      "source": [
        "#Délimiteur, peut nous sauver en cas de fichier volumineux\n",
        "#data science at the command line\n",
        "!cut -f 1 -d ' ' dataset/data/images_manufacturer_train.txt | head "
      ],
      "metadata": {
        "colab": {
          "base_uri": "https://localhost:8080/"
        },
        "id": "SZFPcVB_qUT7",
        "outputId": "b6a48c07-dd0d-4b42-f401-5bae7564004b"
      },
      "execution_count": 38,
      "outputs": [
        {
          "output_type": "stream",
          "name": "stdout",
          "text": [
            "1025794\n",
            "1340192\n",
            "0056978\n",
            "0698580\n",
            "0450014\n",
            "1042824\n",
            "0894380\n",
            "1427680\n",
            "0817494\n",
            "0716386\n"
          ]
        }
      ]
    },
    {
      "cell_type": "code",
      "source": [
        ""
      ],
      "metadata": {
        "id": "HpqCFqQDqsx4"
      },
      "execution_count": null,
      "outputs": []
    }
  ]
}